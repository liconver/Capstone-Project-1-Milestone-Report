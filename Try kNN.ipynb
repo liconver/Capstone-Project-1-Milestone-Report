{
 "cells": [
  {
   "cell_type": "code",
   "execution_count": 22,
   "metadata": {},
   "outputs": [],
   "source": [
    "import numpy as np\n",
    "import pandas as pd\n",
    "import matplotlib.pyplot as plt\n",
    "import datetime\n",
    "from sklearn.neighbors import KNeighborsClassifier \n",
    "from sklearn.model_selection import train_test_split, cross_val_score, GridSearchCV\n",
    "from sklearn.metrics import confusion_matrix, classification_report, roc_curve, roc_auc_score, log_loss"
   ]
  },
  {
   "cell_type": "code",
   "execution_count": 3,
   "metadata": {},
   "outputs": [],
   "source": [
    "members = pd.read_csv(r'E:\\KKbox\\members_v3.csv')\n",
    "members =members.loc[(members['bd']>2) & (members['bd']<99)]\n",
    "train = pd.read_csv(r'E:\\KKbox\\train.csv')\n",
    "df = pd.merge(members,train,how='inner',on=['msno'])\n",
    "df = df.iloc[0:50000]\n",
    "msnos = df['msno']\n",
    "relevant_user_logs = pd.read_csv(r'E:\\KKbox\\feb_user_logs.csv')\n",
    "#relevant_transactions = pd.read_csv(r'C:\\Users\\liamc\\OneDrive\\Desktop\\Data Science\\KKbox\\relevant_transactions.csv')                                 "
   ]
  },
  {
   "cell_type": "code",
   "execution_count": 4,
   "metadata": {},
   "outputs": [],
   "source": [
    "df['registration_init_time'] = pd.to_datetime(df['registration_init_time'],format='%Y%m%d')"
   ]
  },
  {
   "cell_type": "code",
   "execution_count": 5,
   "metadata": {},
   "outputs": [],
   "source": [
    "mean_user_logs = pd.DataFrame(index=[],columns=[])"
   ]
  },
  {
   "cell_type": "code",
   "execution_count": 6,
   "metadata": {},
   "outputs": [],
   "source": [
    "mean_user_logs['num_25'] = relevant_user_logs.groupby('msno')['num_25'].mean()\n",
    "mean_user_logs['num_50'] = relevant_user_logs.groupby('msno')['num_50'].mean()\n",
    "mean_user_logs['num_75'] = relevant_user_logs.groupby('msno')['num_75'].mean()\n",
    "mean_user_logs['num_985'] = relevant_user_logs.groupby('msno')['num_50'].mean()\n",
    "mean_user_logs['num_100'] = relevant_user_logs.groupby('msno')['num_100'].mean()\n",
    "mean_user_logs['num_unq'] = relevant_user_logs.groupby('msno')['num_unq'].mean()\n",
    "mean_user_logs['total_secs'] = relevant_user_logs.groupby('msno')['total_secs'].mean()\n",
    "mean_user_logs['days_logged'] = relevant_user_logs.groupby('msno')['date'].count()"
   ]
  },
  {
   "cell_type": "code",
   "execution_count": 7,
   "metadata": {},
   "outputs": [],
   "source": [
    "mean_user_logs = mean_user_logs.reset_index()"
   ]
  },
  {
   "cell_type": "code",
   "execution_count": 8,
   "metadata": {},
   "outputs": [],
   "source": [
    "df = pd.merge(df,mean_user_logs,how='inner',on='msno')"
   ]
  },
  {
   "cell_type": "code",
   "execution_count": 9,
   "metadata": {},
   "outputs": [],
   "source": [
    "end_day = datetime.date(2017,3,1)\n",
    "df['days_since_registered'] = end_day - df['registration_init_time']\n",
    "df['days_since_registered'] = df['days_since_registered'].dt.days"
   ]
  },
  {
   "cell_type": "code",
   "execution_count": 10,
   "metadata": {},
   "outputs": [],
   "source": [
    "df = pd.get_dummies(df,columns=['city','registered_via','gender'])"
   ]
  },
  {
   "cell_type": "code",
   "execution_count": 11,
   "metadata": {},
   "outputs": [
    {
     "data": {
      "text/html": [
       "<div>\n",
       "<style scoped>\n",
       "    .dataframe tbody tr th:only-of-type {\n",
       "        vertical-align: middle;\n",
       "    }\n",
       "\n",
       "    .dataframe tbody tr th {\n",
       "        vertical-align: top;\n",
       "    }\n",
       "\n",
       "    .dataframe thead th {\n",
       "        text-align: right;\n",
       "    }\n",
       "</style>\n",
       "<table border=\"1\" class=\"dataframe\">\n",
       "  <thead>\n",
       "    <tr style=\"text-align: right;\">\n",
       "      <th></th>\n",
       "      <th>msno</th>\n",
       "      <th>bd</th>\n",
       "      <th>registration_init_time</th>\n",
       "      <th>is_churn</th>\n",
       "      <th>num_25</th>\n",
       "      <th>num_50</th>\n",
       "      <th>num_75</th>\n",
       "      <th>num_985</th>\n",
       "      <th>num_100</th>\n",
       "      <th>num_unq</th>\n",
       "      <th>...</th>\n",
       "      <th>city_20</th>\n",
       "      <th>city_21</th>\n",
       "      <th>city_22</th>\n",
       "      <th>registered_via_3</th>\n",
       "      <th>registered_via_4</th>\n",
       "      <th>registered_via_7</th>\n",
       "      <th>registered_via_9</th>\n",
       "      <th>registered_via_13</th>\n",
       "      <th>gender_female</th>\n",
       "      <th>gender_male</th>\n",
       "    </tr>\n",
       "  </thead>\n",
       "  <tbody>\n",
       "    <tr>\n",
       "      <th>0</th>\n",
       "      <td>tlGR5F/+vDFsnQme+KnvXKsCh3y31I1/dBaGuHDfdII=</td>\n",
       "      <td>39</td>\n",
       "      <td>2011-10-12</td>\n",
       "      <td>0</td>\n",
       "      <td>0.0</td>\n",
       "      <td>0.0</td>\n",
       "      <td>0.0</td>\n",
       "      <td>0.0</td>\n",
       "      <td>12.0</td>\n",
       "      <td>5.0</td>\n",
       "      <td>...</td>\n",
       "      <td>0</td>\n",
       "      <td>0</td>\n",
       "      <td>0</td>\n",
       "      <td>0</td>\n",
       "      <td>0</td>\n",
       "      <td>1</td>\n",
       "      <td>0</td>\n",
       "      <td>0</td>\n",
       "      <td>1</td>\n",
       "      <td>0</td>\n",
       "    </tr>\n",
       "    <tr>\n",
       "      <th>1</th>\n",
       "      <td>m0h0+lJIok7k6BzAoOnq+x+mB1tbi9shGF/egYLbed4=</td>\n",
       "      <td>22</td>\n",
       "      <td>2014-10-20</td>\n",
       "      <td>0</td>\n",
       "      <td>27.4</td>\n",
       "      <td>4.6</td>\n",
       "      <td>1.4</td>\n",
       "      <td>4.6</td>\n",
       "      <td>28.6</td>\n",
       "      <td>50.8</td>\n",
       "      <td>...</td>\n",
       "      <td>0</td>\n",
       "      <td>0</td>\n",
       "      <td>0</td>\n",
       "      <td>0</td>\n",
       "      <td>0</td>\n",
       "      <td>1</td>\n",
       "      <td>0</td>\n",
       "      <td>0</td>\n",
       "      <td>1</td>\n",
       "      <td>0</td>\n",
       "    </tr>\n",
       "    <tr>\n",
       "      <th>2</th>\n",
       "      <td>eIOUZ5I+NV/3EDfn/U/tMepn4FJt2SdzOrWGH1tNlYI=</td>\n",
       "      <td>24</td>\n",
       "      <td>2014-10-25</td>\n",
       "      <td>0</td>\n",
       "      <td>1.5</td>\n",
       "      <td>1.5</td>\n",
       "      <td>0.5</td>\n",
       "      <td>1.5</td>\n",
       "      <td>5.5</td>\n",
       "      <td>6.5</td>\n",
       "      <td>...</td>\n",
       "      <td>0</td>\n",
       "      <td>0</td>\n",
       "      <td>0</td>\n",
       "      <td>1</td>\n",
       "      <td>0</td>\n",
       "      <td>0</td>\n",
       "      <td>0</td>\n",
       "      <td>0</td>\n",
       "      <td>0</td>\n",
       "      <td>1</td>\n",
       "    </tr>\n",
       "    <tr>\n",
       "      <th>3</th>\n",
       "      <td>0uAjNEzX6IY+lZ+PYv9W31mZjHxUWkbFz9LL8m9G46k=</td>\n",
       "      <td>23</td>\n",
       "      <td>2014-11-03</td>\n",
       "      <td>0</td>\n",
       "      <td>9.0</td>\n",
       "      <td>2.0</td>\n",
       "      <td>2.2</td>\n",
       "      <td>2.0</td>\n",
       "      <td>79.2</td>\n",
       "      <td>66.6</td>\n",
       "      <td>...</td>\n",
       "      <td>0</td>\n",
       "      <td>0</td>\n",
       "      <td>0</td>\n",
       "      <td>0</td>\n",
       "      <td>0</td>\n",
       "      <td>1</td>\n",
       "      <td>0</td>\n",
       "      <td>0</td>\n",
       "      <td>1</td>\n",
       "      <td>0</td>\n",
       "    </tr>\n",
       "    <tr>\n",
       "      <th>4</th>\n",
       "      <td>gSQhnGXJqBkTEdLKfQWiMHRwbHnpgLFirbSZbL6EyeE=</td>\n",
       "      <td>32</td>\n",
       "      <td>2014-11-03</td>\n",
       "      <td>0</td>\n",
       "      <td>15.2</td>\n",
       "      <td>3.4</td>\n",
       "      <td>2.4</td>\n",
       "      <td>3.4</td>\n",
       "      <td>43.4</td>\n",
       "      <td>43.6</td>\n",
       "      <td>...</td>\n",
       "      <td>0</td>\n",
       "      <td>0</td>\n",
       "      <td>0</td>\n",
       "      <td>1</td>\n",
       "      <td>0</td>\n",
       "      <td>0</td>\n",
       "      <td>0</td>\n",
       "      <td>0</td>\n",
       "      <td>0</td>\n",
       "      <td>1</td>\n",
       "    </tr>\n",
       "  </tbody>\n",
       "</table>\n",
       "<p>5 rows × 41 columns</p>\n",
       "</div>"
      ],
      "text/plain": [
       "                                           msno  bd registration_init_time  \\\n",
       "0  tlGR5F/+vDFsnQme+KnvXKsCh3y31I1/dBaGuHDfdII=  39             2011-10-12   \n",
       "1  m0h0+lJIok7k6BzAoOnq+x+mB1tbi9shGF/egYLbed4=  22             2014-10-20   \n",
       "2  eIOUZ5I+NV/3EDfn/U/tMepn4FJt2SdzOrWGH1tNlYI=  24             2014-10-25   \n",
       "3  0uAjNEzX6IY+lZ+PYv9W31mZjHxUWkbFz9LL8m9G46k=  23             2014-11-03   \n",
       "4  gSQhnGXJqBkTEdLKfQWiMHRwbHnpgLFirbSZbL6EyeE=  32             2014-11-03   \n",
       "\n",
       "   is_churn  num_25  num_50  num_75  num_985  num_100  num_unq     ...       \\\n",
       "0         0     0.0     0.0     0.0      0.0     12.0      5.0     ...        \n",
       "1         0    27.4     4.6     1.4      4.6     28.6     50.8     ...        \n",
       "2         0     1.5     1.5     0.5      1.5      5.5      6.5     ...        \n",
       "3         0     9.0     2.0     2.2      2.0     79.2     66.6     ...        \n",
       "4         0    15.2     3.4     2.4      3.4     43.4     43.6     ...        \n",
       "\n",
       "   city_20  city_21  city_22  registered_via_3  registered_via_4  \\\n",
       "0        0        0        0                 0                 0   \n",
       "1        0        0        0                 0                 0   \n",
       "2        0        0        0                 1                 0   \n",
       "3        0        0        0                 0                 0   \n",
       "4        0        0        0                 1                 0   \n",
       "\n",
       "   registered_via_7  registered_via_9  registered_via_13  gender_female  \\\n",
       "0                 1                 0                  0              1   \n",
       "1                 1                 0                  0              1   \n",
       "2                 0                 0                  0              0   \n",
       "3                 1                 0                  0              1   \n",
       "4                 0                 0                  0              0   \n",
       "\n",
       "   gender_male  \n",
       "0            0  \n",
       "1            0  \n",
       "2            1  \n",
       "3            0  \n",
       "4            1  \n",
       "\n",
       "[5 rows x 41 columns]"
      ]
     },
     "execution_count": 11,
     "metadata": {},
     "output_type": "execute_result"
    }
   ],
   "source": [
    "df.head()"
   ]
  },
  {
   "cell_type": "code",
   "execution_count": 12,
   "metadata": {},
   "outputs": [],
   "source": [
    "y = df['is_churn'].values\n",
    "X = df.drop(['is_churn','registration_init_time','msno'],axis=1).values"
   ]
  },
  {
   "cell_type": "code",
   "execution_count": 13,
   "metadata": {},
   "outputs": [],
   "source": [
    "X_train, X_test, y_train, y_test = train_test_split(X,y,test_size=.3)"
   ]
  },
  {
   "cell_type": "code",
   "execution_count": 24,
   "metadata": {},
   "outputs": [],
   "source": [
    "knn = KNeighborsClassifier(n_neighbors=12)"
   ]
  },
  {
   "cell_type": "code",
   "execution_count": 25,
   "metadata": {},
   "outputs": [
    {
     "data": {
      "text/plain": [
       "KNeighborsClassifier(algorithm='auto', leaf_size=30, metric='minkowski',\n",
       "           metric_params=None, n_jobs=1, n_neighbors=12, p=2,\n",
       "           weights='uniform')"
      ]
     },
     "execution_count": 25,
     "metadata": {},
     "output_type": "execute_result"
    }
   ],
   "source": [
    "knn.fit(X_train,y_train)"
   ]
  },
  {
   "cell_type": "code",
   "execution_count": 26,
   "metadata": {},
   "outputs": [],
   "source": [
    "y_pred = knn.predict(X_test)"
   ]
  },
  {
   "cell_type": "code",
   "execution_count": 27,
   "metadata": {
    "scrolled": true
   },
   "outputs": [
    {
     "name": "stdout",
     "output_type": "stream",
     "text": [
      "[[5349    0]\n",
      " [ 334    0]]\n",
      "             precision    recall  f1-score   support\n",
      "\n",
      "          0       0.94      1.00      0.97      5349\n",
      "          1       0.00      0.00      0.00       334\n",
      "\n",
      "avg / total       0.89      0.94      0.91      5683\n",
      "\n"
     ]
    },
    {
     "name": "stderr",
     "output_type": "stream",
     "text": [
      "C:\\Users\\liamc\\Anaconda3\\lib\\site-packages\\sklearn\\metrics\\classification.py:1135: UndefinedMetricWarning: Precision and F-score are ill-defined and being set to 0.0 in labels with no predicted samples.\n",
      "  'precision', 'predicted', average, warn_for)\n"
     ]
    }
   ],
   "source": [
    "print(confusion_matrix(y_test, y_pred))\n",
    "print(classification_report(y_test, y_pred))"
   ]
  },
  {
   "cell_type": "code",
   "execution_count": 28,
   "metadata": {},
   "outputs": [
    {
     "data": {
      "image/png": "[encoded data removed]",
      "text/plain": [
       "<matplotlib.figure.Figure at 0x20c0048c208>"
      ]
     },
     "metadata": {},
     "output_type": "display_data"
    }
   ],
   "source": [
    "y_pred_prob = knn.predict_proba(X_test)[:,1]\n",
    "fpr, tpr, thresholds = roc_curve(y_test, y_pred_prob)\n",
    "plt.plot([0, 1], [0, 1], 'k--')\n",
    "plt.plot(fpr, tpr)\n",
    "plt.xlabel('False Positive Rate')\n",
    "plt.ylabel('True Positive Rate')\n",
    "plt.title('ROC Curve')\n",
    "plt.show()"
   ]
  },
  {
   "cell_type": "code",
   "execution_count": 29,
   "metadata": {},
   "outputs": [
    {
     "name": "stdout",
     "output_type": "stream",
     "text": [
      "AUC: 0.5400911581212225\n",
      "AUC scores computed using 5-fold cross-validation: [0.55324398 0.49922321 0.52949332 0.5144449  0.52650304]\n"
     ]
    }
   ],
   "source": [
    "print(\"AUC: {}\".format(roc_auc_score(y_test, y_pred_prob)))\n",
    "cv_auc = cross_val_score(knn,X,y,cv=5,scoring='roc_auc')\n",
    "print(\"AUC scores computed using 5-fold cross-validation: {}\".format(cv_auc))"
   ]
  },
  {
   "cell_type": "code",
   "execution_count": 20,
   "metadata": {},
   "outputs": [
    {
     "name": "stdout",
     "output_type": "stream",
     "text": [
      "Tuned Logistic Regression Parameters: {'n_neighbors': 12}\n",
      "Best score is 0.9430924352003378\n"
     ]
    }
   ],
   "source": [
    "k_range = range(1, 31)\n",
    "param_grid = {'n_neighbors':k_range}\n",
    "knn_cv = GridSearchCV(knn, param_grid, cv=5,scoring='accuracy')\n",
    "knn_cv.fit(X,y)\n",
    "print(\"Tuned Logistic Regression Parameters: {}\".format(knn_cv.best_params_)) \n",
    "print(\"Best score is {}\".format(knn_cv.best_score_))"
   ]
  },
  {
   "cell_type": "code",
   "execution_count": 30,
   "metadata": {},
   "outputs": [
    {
     "data": {
      "text/plain": [
       "1.0661409697052073"
      ]
     },
     "execution_count": 30,
     "metadata": {},
     "output_type": "execute_result"
    }
   ],
   "source": [
    "log_loss(y_test,y_pred_prob)"
   ]
  },
  {
   "cell_type": "code",
   "execution_count": null,
   "metadata": {},
   "outputs": [],
   "source": []
  }
 ],
 "metadata": {
  "kernelspec": {
   "display_name": "Python 3",
   "language": "python",
   "name": "python3"
  },
  "language_info": {
   "codemirror_mode": {
    "name": "ipython",
    "version": 3
   },
   "file_extension": ".py",
   "mimetype": "text/x-python",
   "name": "python",
   "nbconvert_exporter": "python",
   "pygments_lexer": "ipython3",
   "version": "3.6.4"
  }
 },
 "nbformat": 4,
 "nbformat_minor": 2
}
